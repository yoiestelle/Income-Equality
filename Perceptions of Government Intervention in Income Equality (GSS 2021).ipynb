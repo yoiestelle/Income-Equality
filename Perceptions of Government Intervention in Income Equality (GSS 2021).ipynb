{
 "cells": [
  {
   "cell_type": "code",
   "execution_count": 1,
   "id": "d4cbdbf8",
   "metadata": {},
   "outputs": [],
   "source": [
    "from __future__ import division\n",
    "import pandas as pd\n",
    "import numpy as np\n",
    "import statsmodels.api as sm\n",
    "import statsmodels.formula.api as smf\n",
    "import os\n",
    "import matplotlib.pyplot as plt"
   ]
  },
  {
   "cell_type": "code",
   "execution_count": 2,
   "id": "a4c38043",
   "metadata": {},
   "outputs": [
    {
     "data": {
      "text/html": [
       "<div>\n",
       "<style scoped>\n",
       "    .dataframe tbody tr th:only-of-type {\n",
       "        vertical-align: middle;\n",
       "    }\n",
       "\n",
       "    .dataframe tbody tr th {\n",
       "        vertical-align: top;\n",
       "    }\n",
       "\n",
       "    .dataframe thead th {\n",
       "        text-align: right;\n",
       "    }\n",
       "</style>\n",
       "<table border=\"1\" class=\"dataframe\">\n",
       "  <thead>\n",
       "    <tr style=\"text-align: right;\">\n",
       "      <th></th>\n",
       "      <th>year</th>\n",
       "      <th>id</th>\n",
       "      <th>wrkslf</th>\n",
       "      <th>wrkgovt</th>\n",
       "      <th>occ10</th>\n",
       "      <th>prestg10</th>\n",
       "      <th>indus10</th>\n",
       "      <th>marital</th>\n",
       "      <th>martype</th>\n",
       "      <th>divorce</th>\n",
       "      <th>...</th>\n",
       "      <th>relitennv</th>\n",
       "      <th>biblenv</th>\n",
       "      <th>postlifenv</th>\n",
       "      <th>kidssolnv</th>\n",
       "      <th>uscitznnv</th>\n",
       "      <th>fucitznnv</th>\n",
       "      <th>fepolnv</th>\n",
       "      <th>scibnftsv</th>\n",
       "      <th>abanyg</th>\n",
       "      <th>fileversion</th>\n",
       "    </tr>\n",
       "  </thead>\n",
       "  <tbody>\n",
       "    <tr>\n",
       "      <th>0</th>\n",
       "      <td>2021</td>\n",
       "      <td>0</td>\n",
       "      <td>1</td>\n",
       "      <td>-1</td>\n",
       "      <td>265</td>\n",
       "      <td>21</td>\n",
       "      <td>196</td>\n",
       "      <td>0</td>\n",
       "      <td>-1</td>\n",
       "      <td>1</td>\n",
       "      <td>...</td>\n",
       "      <td>1</td>\n",
       "      <td>1</td>\n",
       "      <td>1</td>\n",
       "      <td>3</td>\n",
       "      <td>-1</td>\n",
       "      <td>-1</td>\n",
       "      <td>-1</td>\n",
       "      <td>1</td>\n",
       "      <td>1</td>\n",
       "      <td>0</td>\n",
       "    </tr>\n",
       "    <tr>\n",
       "      <th>1</th>\n",
       "      <td>2021</td>\n",
       "      <td>1</td>\n",
       "      <td>1</td>\n",
       "      <td>-1</td>\n",
       "      <td>3</td>\n",
       "      <td>40</td>\n",
       "      <td>179</td>\n",
       "      <td>2</td>\n",
       "      <td>-1</td>\n",
       "      <td>-1</td>\n",
       "      <td>...</td>\n",
       "      <td>3</td>\n",
       "      <td>-1</td>\n",
       "      <td>-1</td>\n",
       "      <td>-1</td>\n",
       "      <td>-1</td>\n",
       "      <td>-1</td>\n",
       "      <td>-1</td>\n",
       "      <td>0</td>\n",
       "      <td>-1</td>\n",
       "      <td>0</td>\n",
       "    </tr>\n",
       "    <tr>\n",
       "      <th>2</th>\n",
       "      <td>2021</td>\n",
       "      <td>2</td>\n",
       "      <td>1</td>\n",
       "      <td>-1</td>\n",
       "      <td>341</td>\n",
       "      <td>18</td>\n",
       "      <td>108</td>\n",
       "      <td>4</td>\n",
       "      <td>-1</td>\n",
       "      <td>-1</td>\n",
       "      <td>...</td>\n",
       "      <td>-1</td>\n",
       "      <td>-1</td>\n",
       "      <td>-1</td>\n",
       "      <td>-1</td>\n",
       "      <td>-1</td>\n",
       "      <td>-1</td>\n",
       "      <td>1</td>\n",
       "      <td>-1</td>\n",
       "      <td>0</td>\n",
       "      <td>0</td>\n",
       "    </tr>\n",
       "    <tr>\n",
       "      <th>3</th>\n",
       "      <td>2021</td>\n",
       "      <td>3</td>\n",
       "      <td>0</td>\n",
       "      <td>-1</td>\n",
       "      <td>223</td>\n",
       "      <td>18</td>\n",
       "      <td>208</td>\n",
       "      <td>1</td>\n",
       "      <td>-1</td>\n",
       "      <td>1</td>\n",
       "      <td>...</td>\n",
       "      <td>-1</td>\n",
       "      <td>-1</td>\n",
       "      <td>-1</td>\n",
       "      <td>-1</td>\n",
       "      <td>-1</td>\n",
       "      <td>-1</td>\n",
       "      <td>-1</td>\n",
       "      <td>-1</td>\n",
       "      <td>-1</td>\n",
       "      <td>0</td>\n",
       "    </tr>\n",
       "    <tr>\n",
       "      <th>4</th>\n",
       "      <td>2021</td>\n",
       "      <td>4</td>\n",
       "      <td>1</td>\n",
       "      <td>-1</td>\n",
       "      <td>282</td>\n",
       "      <td>21</td>\n",
       "      <td>166</td>\n",
       "      <td>4</td>\n",
       "      <td>-1</td>\n",
       "      <td>-1</td>\n",
       "      <td>...</td>\n",
       "      <td>1</td>\n",
       "      <td>1</td>\n",
       "      <td>0</td>\n",
       "      <td>-1</td>\n",
       "      <td>0</td>\n",
       "      <td>-1</td>\n",
       "      <td>1</td>\n",
       "      <td>-1</td>\n",
       "      <td>0</td>\n",
       "      <td>0</td>\n",
       "    </tr>\n",
       "  </tbody>\n",
       "</table>\n",
       "<p>5 rows × 735 columns</p>\n",
       "</div>"
      ],
      "text/plain": [
       "   year  id  wrkslf  wrkgovt  occ10  prestg10  indus10  marital  martype  \\\n",
       "0  2021   0       1       -1    265        21      196        0       -1   \n",
       "1  2021   1       1       -1      3        40      179        2       -1   \n",
       "2  2021   2       1       -1    341        18      108        4       -1   \n",
       "3  2021   3       0       -1    223        18      208        1       -1   \n",
       "4  2021   4       1       -1    282        21      166        4       -1   \n",
       "\n",
       "   divorce  ...  relitennv  biblenv  postlifenv  kidssolnv  uscitznnv  \\\n",
       "0        1  ...          1        1           1          3         -1   \n",
       "1       -1  ...          3       -1          -1         -1         -1   \n",
       "2       -1  ...         -1       -1          -1         -1         -1   \n",
       "3        1  ...         -1       -1          -1         -1         -1   \n",
       "4       -1  ...          1        1           0         -1          0   \n",
       "\n",
       "   fucitznnv  fepolnv  scibnftsv  abanyg  fileversion  \n",
       "0         -1       -1          1       1            0  \n",
       "1         -1       -1          0      -1            0  \n",
       "2         -1        1         -1       0            0  \n",
       "3         -1       -1         -1      -1            0  \n",
       "4         -1        1         -1       0            0  \n",
       "\n",
       "[5 rows x 735 columns]"
      ]
     },
     "execution_count": 2,
     "metadata": {},
     "output_type": "execute_result"
    }
   ],
   "source": [
    "os.chdir('/Users/minpan/Desktop/Data Analysis  Data') # change working di\n",
    "d = pd.read_csv(\"gss_2021.csv\")\n",
    "d.head()"
   ]
  },
  {
   "cell_type": "markdown",
   "id": "18ba078e",
   "metadata": {},
   "source": [
    "#### Variables of Interests \n",
    "\n",
    "data description:\n",
    "\n",
    "Y: eqwlth\n",
    "\n",
    "Some people think that the government in Washington ought to reduce the income differences between the rich and the poor, perhaps by raising the taxes of wealthy families or by giving income assistance to the poor. Others think that the government should not concern itself with reducing this income difference between the rich and the poor. Here is a card with a scale from 1 to 7. Think of a score of 1 as meaning that the government ought to reduce the income differences between rich and poor, and a score of 7 meaning that the government should not concern itself with reducing income differences. What score between 1 and 7 comes closest to the way you feel?\n",
    "\n",
    "Xs: \n",
    "\n",
    "educ: years of education that respondent obtained;\n",
    "\n",
    "poliviews: seven-point scale on which the political views that people might hold are arranged from extremely liberal--point 1--to extremely conservative--point 7;\n",
    "\n",
    "prestg10: This standard prestige score is a simple mean value of ratings for each occupation category, converted to a scale of 0 (bottom) to 100 (top).\n",
    "\n",
    "I selected these variables with the aim of exploring how education, political views, and occupational prestige impact people's views on government intervention in reducing income differences. "
   ]
  },
  {
   "cell_type": "code",
   "execution_count": 3,
   "id": "c9957a99",
   "metadata": {},
   "outputs": [],
   "source": [
    "# get rid of all missings; necessary for predictions later ##\n",
    "sub = d.dropna(subset = [\"eqwlth\", \"polviews\", \"prestg10\", \"educ\"])"
   ]
  },
  {
   "cell_type": "code",
   "execution_count": 4,
   "id": "2fd656e2",
   "metadata": {},
   "outputs": [
    {
     "data": {
      "text/html": [
       "<div>\n",
       "<style scoped>\n",
       "    .dataframe tbody tr th:only-of-type {\n",
       "        vertical-align: middle;\n",
       "    }\n",
       "\n",
       "    .dataframe tbody tr th {\n",
       "        vertical-align: top;\n",
       "    }\n",
       "\n",
       "    .dataframe thead th {\n",
       "        text-align: right;\n",
       "    }\n",
       "</style>\n",
       "<table border=\"1\" class=\"dataframe\">\n",
       "  <thead>\n",
       "    <tr style=\"text-align: right;\">\n",
       "      <th></th>\n",
       "      <th>year</th>\n",
       "      <th>id</th>\n",
       "      <th>wrkslf</th>\n",
       "      <th>wrkgovt</th>\n",
       "      <th>occ10</th>\n",
       "      <th>prestg10</th>\n",
       "      <th>indus10</th>\n",
       "      <th>marital</th>\n",
       "      <th>martype</th>\n",
       "      <th>divorce</th>\n",
       "      <th>...</th>\n",
       "      <th>relitennv</th>\n",
       "      <th>biblenv</th>\n",
       "      <th>postlifenv</th>\n",
       "      <th>kidssolnv</th>\n",
       "      <th>uscitznnv</th>\n",
       "      <th>fucitznnv</th>\n",
       "      <th>fepolnv</th>\n",
       "      <th>scibnftsv</th>\n",
       "      <th>abanyg</th>\n",
       "      <th>fileversion</th>\n",
       "    </tr>\n",
       "  </thead>\n",
       "  <tbody>\n",
       "    <tr>\n",
       "      <th>0</th>\n",
       "      <td>2021</td>\n",
       "      <td>0</td>\n",
       "      <td>1</td>\n",
       "      <td>-1</td>\n",
       "      <td>265</td>\n",
       "      <td>21</td>\n",
       "      <td>196</td>\n",
       "      <td>0</td>\n",
       "      <td>-1</td>\n",
       "      <td>1</td>\n",
       "      <td>...</td>\n",
       "      <td>1</td>\n",
       "      <td>1</td>\n",
       "      <td>1</td>\n",
       "      <td>3</td>\n",
       "      <td>-1</td>\n",
       "      <td>-1</td>\n",
       "      <td>-1</td>\n",
       "      <td>1</td>\n",
       "      <td>1</td>\n",
       "      <td>0</td>\n",
       "    </tr>\n",
       "    <tr>\n",
       "      <th>1</th>\n",
       "      <td>2021</td>\n",
       "      <td>1</td>\n",
       "      <td>1</td>\n",
       "      <td>-1</td>\n",
       "      <td>3</td>\n",
       "      <td>40</td>\n",
       "      <td>179</td>\n",
       "      <td>2</td>\n",
       "      <td>-1</td>\n",
       "      <td>-1</td>\n",
       "      <td>...</td>\n",
       "      <td>3</td>\n",
       "      <td>-1</td>\n",
       "      <td>-1</td>\n",
       "      <td>-1</td>\n",
       "      <td>-1</td>\n",
       "      <td>-1</td>\n",
       "      <td>-1</td>\n",
       "      <td>0</td>\n",
       "      <td>-1</td>\n",
       "      <td>0</td>\n",
       "    </tr>\n",
       "    <tr>\n",
       "      <th>2</th>\n",
       "      <td>2021</td>\n",
       "      <td>2</td>\n",
       "      <td>1</td>\n",
       "      <td>-1</td>\n",
       "      <td>341</td>\n",
       "      <td>18</td>\n",
       "      <td>108</td>\n",
       "      <td>4</td>\n",
       "      <td>-1</td>\n",
       "      <td>-1</td>\n",
       "      <td>...</td>\n",
       "      <td>-1</td>\n",
       "      <td>-1</td>\n",
       "      <td>-1</td>\n",
       "      <td>-1</td>\n",
       "      <td>-1</td>\n",
       "      <td>-1</td>\n",
       "      <td>1</td>\n",
       "      <td>-1</td>\n",
       "      <td>0</td>\n",
       "      <td>0</td>\n",
       "    </tr>\n",
       "    <tr>\n",
       "      <th>3</th>\n",
       "      <td>2021</td>\n",
       "      <td>3</td>\n",
       "      <td>0</td>\n",
       "      <td>-1</td>\n",
       "      <td>223</td>\n",
       "      <td>18</td>\n",
       "      <td>208</td>\n",
       "      <td>1</td>\n",
       "      <td>-1</td>\n",
       "      <td>1</td>\n",
       "      <td>...</td>\n",
       "      <td>-1</td>\n",
       "      <td>-1</td>\n",
       "      <td>-1</td>\n",
       "      <td>-1</td>\n",
       "      <td>-1</td>\n",
       "      <td>-1</td>\n",
       "      <td>-1</td>\n",
       "      <td>-1</td>\n",
       "      <td>-1</td>\n",
       "      <td>0</td>\n",
       "    </tr>\n",
       "    <tr>\n",
       "      <th>4</th>\n",
       "      <td>2021</td>\n",
       "      <td>4</td>\n",
       "      <td>1</td>\n",
       "      <td>-1</td>\n",
       "      <td>282</td>\n",
       "      <td>21</td>\n",
       "      <td>166</td>\n",
       "      <td>4</td>\n",
       "      <td>-1</td>\n",
       "      <td>-1</td>\n",
       "      <td>...</td>\n",
       "      <td>1</td>\n",
       "      <td>1</td>\n",
       "      <td>0</td>\n",
       "      <td>-1</td>\n",
       "      <td>0</td>\n",
       "      <td>-1</td>\n",
       "      <td>1</td>\n",
       "      <td>-1</td>\n",
       "      <td>0</td>\n",
       "      <td>0</td>\n",
       "    </tr>\n",
       "  </tbody>\n",
       "</table>\n",
       "<p>5 rows × 735 columns</p>\n",
       "</div>"
      ],
      "text/plain": [
       "   year  id  wrkslf  wrkgovt  occ10  prestg10  indus10  marital  martype  \\\n",
       "0  2021   0       1       -1    265        21      196        0       -1   \n",
       "1  2021   1       1       -1      3        40      179        2       -1   \n",
       "2  2021   2       1       -1    341        18      108        4       -1   \n",
       "3  2021   3       0       -1    223        18      208        1       -1   \n",
       "4  2021   4       1       -1    282        21      166        4       -1   \n",
       "\n",
       "   divorce  ...  relitennv  biblenv  postlifenv  kidssolnv  uscitznnv  \\\n",
       "0        1  ...          1        1           1          3         -1   \n",
       "1       -1  ...          3       -1          -1         -1         -1   \n",
       "2       -1  ...         -1       -1          -1         -1         -1   \n",
       "3        1  ...         -1       -1          -1         -1         -1   \n",
       "4       -1  ...          1        1           0         -1          0   \n",
       "\n",
       "   fucitznnv  fepolnv  scibnftsv  abanyg  fileversion  \n",
       "0         -1       -1          1       1            0  \n",
       "1         -1       -1          0      -1            0  \n",
       "2         -1        1         -1       0            0  \n",
       "3         -1       -1         -1      -1            0  \n",
       "4         -1        1         -1       0            0  \n",
       "\n",
       "[5 rows x 735 columns]"
      ]
     },
     "execution_count": 4,
     "metadata": {},
     "output_type": "execute_result"
    }
   ],
   "source": [
    "sub.head()"
   ]
  },
  {
   "cell_type": "code",
   "execution_count": 5,
   "id": "2820fff9",
   "metadata": {},
   "outputs": [],
   "source": [
    "#recode eqwlth to binary outcome (0 or 1), representing \n",
    "# whether individuals support (1) or do not support (0) government intervention.\n",
    "conditions = [\n",
    "    (sub['eqwlth'] == 1) ,\n",
    "    (sub['eqwlth'] > 1)]\n",
    "choices = [1, 0]\n",
    "sub['eqw'] = np.select(conditions, choices, default=np.nan)"
   ]
  },
  {
   "cell_type": "code",
   "execution_count": 6,
   "id": "c9623fa8",
   "metadata": {},
   "outputs": [
    {
     "data": {
      "text/html": [
       "<div>\n",
       "<style scoped>\n",
       "    .dataframe tbody tr th:only-of-type {\n",
       "        vertical-align: middle;\n",
       "    }\n",
       "\n",
       "    .dataframe tbody tr th {\n",
       "        vertical-align: top;\n",
       "    }\n",
       "\n",
       "    .dataframe thead th {\n",
       "        text-align: right;\n",
       "    }\n",
       "</style>\n",
       "<table border=\"1\" class=\"dataframe\">\n",
       "  <thead>\n",
       "    <tr style=\"text-align: right;\">\n",
       "      <th>col_0</th>\n",
       "      <th>count</th>\n",
       "    </tr>\n",
       "    <tr>\n",
       "      <th>eqw</th>\n",
       "      <th></th>\n",
       "    </tr>\n",
       "  </thead>\n",
       "  <tbody>\n",
       "    <tr>\n",
       "      <th>0.0</th>\n",
       "      <td>1537</td>\n",
       "    </tr>\n",
       "    <tr>\n",
       "      <th>1.0</th>\n",
       "      <td>242</td>\n",
       "    </tr>\n",
       "  </tbody>\n",
       "</table>\n",
       "</div>"
      ],
      "text/plain": [
       "col_0  count\n",
       "eqw         \n",
       "0.0     1537\n",
       "1.0      242"
      ]
     },
     "execution_count": 6,
     "metadata": {},
     "output_type": "execute_result"
    }
   ],
   "source": [
    "pd.crosstab(index=sub[\"eqw\"], columns=\"count\")  ## check that the recode worked okay ##"
   ]
  },
  {
   "cell_type": "markdown",
   "id": "4ef54437",
   "metadata": {},
   "source": [
    "# 1. Multiple Linear Probability Model "
   ]
  },
  {
   "cell_type": "code",
   "execution_count": 7,
   "id": "350a5419",
   "metadata": {},
   "outputs": [
    {
     "name": "stdout",
     "output_type": "stream",
     "text": [
      "                            OLS Regression Results                            \n",
      "==============================================================================\n",
      "Dep. Variable:                    eqw   R-squared:                       0.114\n",
      "Model:                            OLS   Adj. R-squared:                  0.113\n",
      "Method:                 Least Squares   F-statistic:                     76.15\n",
      "Date:                Tue, 28 Nov 2023   Prob (F-statistic):           2.46e-46\n",
      "Time:                        13:38:58   Log-Likelihood:                -512.10\n",
      "No. Observations:                1779   AIC:                             1032.\n",
      "Df Residuals:                    1775   BIC:                             1054.\n",
      "Df Model:                           3                                         \n",
      "Covariance Type:            nonrobust                                         \n",
      "==============================================================================\n",
      "                 coef    std err          t      P>|t|      [0.025      0.975]\n",
      "------------------------------------------------------------------------------\n",
      "Intercept      0.2095      0.040      5.244      0.000       0.131       0.288\n",
      "polviews      -0.0727      0.005    -13.945      0.000      -0.083      -0.062\n",
      "educ           0.0087      0.003      3.347      0.001       0.004       0.014\n",
      "prestg10       0.0014      0.001      2.413      0.016       0.000       0.003\n",
      "==============================================================================\n",
      "Omnibus:                      542.612   Durbin-Watson:                   2.040\n",
      "Prob(Omnibus):                  0.000   Jarque-Bera (JB):             1211.228\n",
      "Skew:                           1.761   Prob(JB):                    9.66e-264\n",
      "Kurtosis:                       4.986   Cond. No.                         185.\n",
      "==============================================================================\n",
      "\n",
      "Notes:\n",
      "[1] Standard Errors assume that the covariance matrix of the errors is correctly specified.\n"
     ]
    }
   ],
   "source": [
    "lm1 = smf.ols(formula = 'eqw ~ polviews + educ + prestg10', data = sub).fit()\n",
    "print (lm1.summary())"
   ]
  },
  {
   "cell_type": "markdown",
   "id": "c8af9b20",
   "metadata": {},
   "source": [
    "##### Data Analysis: \n",
    "\n",
    "I hypothesized that people who hold more liberal political views would demonstrate a greater inclination to support government intervention to reduce income differences, given the common association of liberal ideologies with the advocacy for social and economic equality;\n",
    "\n",
    "Similarly, individuals who are more educated and those with more prestigious occupations might tend to agree with and support government intervention to reduce income differences. This is because they are more likely to have a greater awareness of societal issues and may be more willing to endorse measures that aim to address economic disparities.\n",
    "\n",
    "The regression output shows that for each one-unit increase in political views (moving towards more conservative perspectives), the predicted probability of supporting government intervention decreases by 7.27%, holding other variables constant. This finding supports the notion that more liberal views are associated with a greater likelihood of endorsing government intervention to address income inequality.\n",
    "\n",
    "Likewise, for each additional year of education, the predicted probability of supporting government intervention increases by 0.87%, and for each one-unit increase in occupational prestige, the predicted probability of support rises by 0.14%, holding other variables constant. These results suggest that higher education and occupational prestige are factors positively correlated with a greater likelihood of supporting government intervention.\n",
    "\n",
    "All independent variables (polviews, educ, prestg10) have p-values less than 0.05, indicating that their coefficients are statistically significant. The model, as indicated by the R-squared value of 11.4%, explains a modest but statistically significant portion of the variance in the dependent variable.\n",
    "\n",
    "In summary, the analysis affirms the initial hypotheses. "
   ]
  },
  {
   "cell_type": "markdown",
   "id": "390f749f",
   "metadata": {},
   "source": [
    "# 2. Multiple (binary) Logistic Model"
   ]
  },
  {
   "cell_type": "code",
   "execution_count": 8,
   "id": "4eb8f836",
   "metadata": {},
   "outputs": [
    {
     "name": "stdout",
     "output_type": "stream",
     "text": [
      "Optimization terminated successfully.\n",
      "         Current function value: 0.339536\n",
      "         Iterations 7\n",
      "                           Logit Regression Results                           \n",
      "==============================================================================\n",
      "Dep. Variable:                    eqw   No. Observations:                 1779\n",
      "Model:                          Logit   Df Residuals:                     1775\n",
      "Method:                           MLE   Df Model:                            3\n",
      "Date:                Tue, 28 Nov 2023   Pseudo R-squ.:                  0.1462\n",
      "Time:                        13:38:58   Log-Likelihood:                -604.04\n",
      "converged:                       True   LL-Null:                       -707.50\n",
      "Covariance Type:            nonrobust   LLR p-value:                 1.346e-44\n",
      "==============================================================================\n",
      "                 coef    std err          z      P>|z|      [0.025      0.975]\n",
      "------------------------------------------------------------------------------\n",
      "Intercept     -1.7154      0.402     -4.269      0.000      -2.503      -0.928\n",
      "polviews      -0.6598      0.054    -12.213      0.000      -0.766      -0.554\n",
      "educ           0.0946      0.028      3.439      0.001       0.041       0.149\n",
      "prestg10       0.0105      0.006      1.843      0.065      -0.001       0.022\n",
      "==============================================================================\n"
     ]
    }
   ],
   "source": [
    "logit1 = sm.formula.logit(formula = \"eqw ~ polviews + educ + prestg10\", data = sub).fit()\n",
    "print (logit1.summary()) "
   ]
  },
  {
   "cell_type": "markdown",
   "id": "971ef2ac",
   "metadata": {},
   "source": [
    "##### Data Analysis: \n",
    "\n",
    "With each incremental shift in political views towards conservatism, the respondent's inclination to support government intervention on equal wealth diminishes, reflected by a 0.66 decrease in their logit; Simultaneously, for every additional unit of education, there is a corresponding 0.095 increase in the log-odds of supporting government intervention on equal wealth;Similarly, with each unit rise in occupational prestige, there is a 0.0105 uptick in the log-odds of supporting government intervention on equal wealth. These associations hold firm when all other variables are held constant.\n",
    "\n",
    "The logistic regression results affirm that more conservative political views are associated with decreased odds of supporting government intervention, while higher education and occupational prestige are associated with increased odds of support. \n",
    "\n",
    "The model explains approximately 14.6% of the variance in the dependent variable, indicating a moderate improvement compared to the linear regression model."
   ]
  },
  {
   "cell_type": "markdown",
   "id": "8958bc6d",
   "metadata": {},
   "source": [
    "# 3. Odds Ratios"
   ]
  },
  {
   "cell_type": "code",
   "execution_count": 9,
   "id": "6e05decb",
   "metadata": {},
   "outputs": [
    {
     "data": {
      "text/plain": [
       "Intercept    0.179898\n",
       "polviews     0.516956\n",
       "educ         1.099208\n",
       "prestg10     1.010512\n",
       "dtype: float64"
      ]
     },
     "execution_count": 9,
     "metadata": {},
     "output_type": "execute_result"
    }
   ],
   "source": [
    "np.exp(logit1.params)"
   ]
  },
  {
   "cell_type": "markdown",
   "id": "5f00f46a",
   "metadata": {},
   "source": [
    "##### Data Analysis: \n",
    "\n",
    "For every one-unit increase in 'polviews'(towards conservative), the odds of supporting government intervention to reduce income differences decrease by approximately 48.3%.\n",
    "This is calculated as (0.5169 -1)x 100% =48.3%;\n",
    "\n",
    "For each additional year of education, the odds of supporting government intervention increase by approximately 9.9%, holding other variables constant.\n",
    "(1.0992 - 1) x 100% = 9.9% ; \n",
    "\n",
    "For each one-unit increase in occupational prestige, the odds of supporting government intervention increase by approximately 1.1%, while holding other variables constant.\n",
    "(1.0105 - 1) x 100% = 1.1%."
   ]
  },
  {
   "cell_type": "markdown",
   "id": "568dba62",
   "metadata": {},
   "source": [
    "# 4. Get Predicted Probabilities"
   ]
  },
  {
   "cell_type": "markdown",
   "id": "a98b1cbe",
   "metadata": {},
   "source": [
    "#### Define a predicted probabilities function and utilize the parameters from above logit on it."
   ]
  },
  {
   "cell_type": "code",
   "execution_count": 10,
   "id": "d0476078",
   "metadata": {},
   "outputs": [],
   "source": [
    "def logit2prob (logit):\n",
    "    odds = np.exp(logit)\n",
    "    prob = odds / (1 + odds) \n",
    "    return(prob);\n",
    "\n",
    "\n",
    "intercept = logit1.params.Intercept\n",
    "## CHOOSE REPRESENTATIVE VALUES FOR ALL Xs ##\n",
    "b_poliv = logit1.params.polviews\n",
    "b_educ = logit1.params.educ\n",
    "b_prestg10 = logit1.params.prestg10"
   ]
  },
  {
   "cell_type": "code",
   "execution_count": 11,
   "id": "1f1b8d8a",
   "metadata": {},
   "outputs": [
    {
     "data": {
      "text/plain": [
       "0.46761283428833644"
      ]
     },
     "execution_count": 11,
     "metadata": {},
     "output_type": "execute_result"
    }
   ],
   "source": [
    "## CHOOSE REPRESENTATIVE VALUES FOR ALL Xs ##\n",
    "logits_eqw = intercept + (1 * b_poliv) + (16 * b_educ) + (70 * b_prestg10)\n",
    "logit2prob(logits_eqw)"
   ]
  },
  {
   "cell_type": "markdown",
   "id": "cb381547",
   "metadata": {},
   "source": [
    "##### Data Analysis: \n",
    "For an individual who is extremely liberal, possesses 16 years of education, and has a occupational prestige score of 70. the predicted probability of supporting governemnt invention on reducing income difference is about 47."
   ]
  },
  {
   "cell_type": "code",
   "execution_count": 12,
   "id": "f4143b64",
   "metadata": {},
   "outputs": [
    {
     "data": {
      "text/plain": [
       "0.3303955380180103"
      ]
     },
     "execution_count": 12,
     "metadata": {},
     "output_type": "execute_result"
    }
   ],
   "source": [
    "logits_eqw = intercept + (1 * b_poliv) + (sub.educ.mean() * b_educ) + (sub.prestg10.mean() * b_prestg10) \n",
    "logit2prob(logits_eqw)"
   ]
  },
  {
   "cell_type": "markdown",
   "id": "89db78bb",
   "metadata": {},
   "source": [
    "##### Data Analysis: \n",
    "The predicted probability of supporting government intervention to reduce income differences is 33 for a person who has mostly average values on the Xs, except for liberal views."
   ]
  }
 ],
 "metadata": {
  "kernelspec": {
   "display_name": "Python 3 (ipykernel)",
   "language": "python",
   "name": "python3"
  },
  "language_info": {
   "codemirror_mode": {
    "name": "ipython",
    "version": 3
   },
   "file_extension": ".py",
   "mimetype": "text/x-python",
   "name": "python",
   "nbconvert_exporter": "python",
   "pygments_lexer": "ipython3",
   "version": "3.11.4"
  }
 },
 "nbformat": 4,
 "nbformat_minor": 5
}
